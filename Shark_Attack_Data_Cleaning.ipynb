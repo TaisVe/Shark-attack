{
  "cells": [
    {
      "cell_type": "code",
      "execution_count": 1,
      "metadata": {
        "id": "hUZQaZ0a8e2F"
      },
      "outputs": [],
      "source": [
        "import numpy as np\n",
        "import pandas as pd\n",
        "\n",
        "url = \"https://www.sharkattackfile.net/spreadsheets/GSAF5.xls\"\n",
        "shark_data = pd.read_excel(url)"
      ]
    },
    {
      "cell_type": "code",
      "execution_count": 2,
      "metadata": {
        "colab": {
          "base_uri": "https://localhost:8080/",
          "height": 498
        },
        "id": "wZLVZ2dqAXW_",
        "outputId": "1e1c0b97-21f6-4dc6-a4d8-cfa1e079bdda"
      },
      "outputs": [
        {
          "data": {
            "application/vnd.google.colaboratory.intrinsic+json": {
              "type": "dataframe",
              "variable_name": "shark_data"
            },
            "text/html": [
              "\n",
              "  <div id=\"df-91a8405a-e0d6-4096-9d12-bbc9b14cd3bc\" class=\"colab-df-container\">\n",
              "    <div>\n",
              "<style scoped>\n",
              "    .dataframe tbody tr th:only-of-type {\n",
              "        vertical-align: middle;\n",
              "    }\n",
              "\n",
              "    .dataframe tbody tr th {\n",
              "        vertical-align: top;\n",
              "    }\n",
              "\n",
              "    .dataframe thead th {\n",
              "        text-align: right;\n",
              "    }\n",
              "</style>\n",
              "<table border=\"1\" class=\"dataframe\">\n",
              "  <thead>\n",
              "    <tr style=\"text-align: right;\">\n",
              "      <th></th>\n",
              "      <th>Date</th>\n",
              "      <th>Year</th>\n",
              "      <th>Type</th>\n",
              "      <th>Country</th>\n",
              "      <th>State</th>\n",
              "      <th>Location</th>\n",
              "      <th>Activity</th>\n",
              "      <th>Name</th>\n",
              "      <th>Sex</th>\n",
              "      <th>Age</th>\n",
              "      <th>...</th>\n",
              "      <th>Species</th>\n",
              "      <th>Source</th>\n",
              "      <th>pdf</th>\n",
              "      <th>href formula</th>\n",
              "      <th>href</th>\n",
              "      <th>Case Number</th>\n",
              "      <th>Case Number.1</th>\n",
              "      <th>original order</th>\n",
              "      <th>Unnamed: 21</th>\n",
              "      <th>Unnamed: 22</th>\n",
              "    </tr>\n",
              "  </thead>\n",
              "  <tbody>\n",
              "    <tr>\n",
              "      <th>0</th>\n",
              "      <td>15 Mar 2024</td>\n",
              "      <td>2024.0</td>\n",
              "      <td>Unprovoked</td>\n",
              "      <td>AUSTRALIA</td>\n",
              "      <td>Queensland</td>\n",
              "      <td>Bargara Beach</td>\n",
              "      <td>Swimming</td>\n",
              "      <td>Brooklyn Sauer</td>\n",
              "      <td>F</td>\n",
              "      <td>13</td>\n",
              "      <td>...</td>\n",
              "      <td>Tiger shark</td>\n",
              "      <td>Yahoo News, 3/15/2024</td>\n",
              "      <td>NaN</td>\n",
              "      <td>NaN</td>\n",
              "      <td>NaN</td>\n",
              "      <td>NaN</td>\n",
              "      <td>NaN</td>\n",
              "      <td>NaN</td>\n",
              "      <td>NaN</td>\n",
              "      <td>NaN</td>\n",
              "    </tr>\n",
              "    <tr>\n",
              "      <th>1</th>\n",
              "      <td>04 Mar 2024</td>\n",
              "      <td>2024.0</td>\n",
              "      <td>Unprovoked</td>\n",
              "      <td>USA</td>\n",
              "      <td>Hawaii</td>\n",
              "      <td>Old Man's, Waikiki</td>\n",
              "      <td>Surfing</td>\n",
              "      <td>Matthew White</td>\n",
              "      <td>M</td>\n",
              "      <td>NaN</td>\n",
              "      <td>...</td>\n",
              "      <td>Tiger shark 8'</td>\n",
              "      <td>Surfer, 3/6/2024F</td>\n",
              "      <td>NaN</td>\n",
              "      <td>NaN</td>\n",
              "      <td>NaN</td>\n",
              "      <td>NaN</td>\n",
              "      <td>NaN</td>\n",
              "      <td>NaN</td>\n",
              "      <td>NaN</td>\n",
              "      <td>NaN</td>\n",
              "    </tr>\n",
              "    <tr>\n",
              "      <th>2</th>\n",
              "      <td>02 Mar-2024</td>\n",
              "      <td>2024.0</td>\n",
              "      <td>Unprovoked</td>\n",
              "      <td>USA</td>\n",
              "      <td>Hawaii</td>\n",
              "      <td>Rainbows, Oahu</td>\n",
              "      <td>Swimming</td>\n",
              "      <td>NaN</td>\n",
              "      <td>F</td>\n",
              "      <td>11</td>\n",
              "      <td>...</td>\n",
              "      <td>3' to 4' shark</td>\n",
              "      <td>Hawaii News Now, 3/4/2024</td>\n",
              "      <td>NaN</td>\n",
              "      <td>NaN</td>\n",
              "      <td>NaN</td>\n",
              "      <td>NaN</td>\n",
              "      <td>NaN</td>\n",
              "      <td>NaN</td>\n",
              "      <td>NaN</td>\n",
              "      <td>NaN</td>\n",
              "    </tr>\n",
              "    <tr>\n",
              "      <th>3</th>\n",
              "      <td>25 Feb-2024</td>\n",
              "      <td>2024.0</td>\n",
              "      <td>Unprovoked</td>\n",
              "      <td>AUSTRALIA</td>\n",
              "      <td>Western Australia</td>\n",
              "      <td>Sandlnd Island, Jurian Bay</td>\n",
              "      <td>NaN</td>\n",
              "      <td>female</td>\n",
              "      <td>F</td>\n",
              "      <td>46</td>\n",
              "      <td>...</td>\n",
              "      <td>Tiger shark</td>\n",
              "      <td>WA Today, 2/26/2024</td>\n",
              "      <td>NaN</td>\n",
              "      <td>NaN</td>\n",
              "      <td>NaN</td>\n",
              "      <td>NaN</td>\n",
              "      <td>NaN</td>\n",
              "      <td>NaN</td>\n",
              "      <td>NaN</td>\n",
              "      <td>NaN</td>\n",
              "    </tr>\n",
              "    <tr>\n",
              "      <th>4</th>\n",
              "      <td>14 Feb-2024</td>\n",
              "      <td>2024.0</td>\n",
              "      <td>Unprovoked</td>\n",
              "      <td>INDIA</td>\n",
              "      <td>Maharashtra</td>\n",
              "      <td>Vaitarna River, Palghar District</td>\n",
              "      <td>Fishing</td>\n",
              "      <td>Vicky Suresh Govari</td>\n",
              "      <td>M</td>\n",
              "      <td>32</td>\n",
              "      <td>...</td>\n",
              "      <td>Bull shark, 7'</td>\n",
              "      <td>Times of India, 2/14/2024</td>\n",
              "      <td>NaN</td>\n",
              "      <td>NaN</td>\n",
              "      <td>NaN</td>\n",
              "      <td>NaN</td>\n",
              "      <td>NaN</td>\n",
              "      <td>NaN</td>\n",
              "      <td>NaN</td>\n",
              "      <td>NaN</td>\n",
              "    </tr>\n",
              "  </tbody>\n",
              "</table>\n",
              "<p>5 rows × 23 columns</p>\n",
              "</div>\n",
              "    <div class=\"colab-df-buttons\">\n",
              "\n",
              "  <div class=\"colab-df-container\">\n",
              "    <button class=\"colab-df-convert\" onclick=\"convertToInteractive('df-91a8405a-e0d6-4096-9d12-bbc9b14cd3bc')\"\n",
              "            title=\"Convert this dataframe to an interactive table.\"\n",
              "            style=\"display:none;\">\n",
              "\n",
              "  <svg xmlns=\"http://www.w3.org/2000/svg\" height=\"24px\" viewBox=\"0 -960 960 960\">\n",
              "    <path d=\"M120-120v-720h720v720H120Zm60-500h600v-160H180v160Zm220 220h160v-160H400v160Zm0 220h160v-160H400v160ZM180-400h160v-160H180v160Zm440 0h160v-160H620v160ZM180-180h160v-160H180v160Zm440 0h160v-160H620v160Z\"/>\n",
              "  </svg>\n",
              "    </button>\n",
              "\n",
              "  <style>\n",
              "    .colab-df-container {\n",
              "      display:flex;\n",
              "      gap: 12px;\n",
              "    }\n",
              "\n",
              "    .colab-df-convert {\n",
              "      background-color: #E8F0FE;\n",
              "      border: none;\n",
              "      border-radius: 50%;\n",
              "      cursor: pointer;\n",
              "      display: none;\n",
              "      fill: #1967D2;\n",
              "      height: 32px;\n",
              "      padding: 0 0 0 0;\n",
              "      width: 32px;\n",
              "    }\n",
              "\n",
              "    .colab-df-convert:hover {\n",
              "      background-color: #E2EBFA;\n",
              "      box-shadow: 0px 1px 2px rgba(60, 64, 67, 0.3), 0px 1px 3px 1px rgba(60, 64, 67, 0.15);\n",
              "      fill: #174EA6;\n",
              "    }\n",
              "\n",
              "    .colab-df-buttons div {\n",
              "      margin-bottom: 4px;\n",
              "    }\n",
              "\n",
              "    [theme=dark] .colab-df-convert {\n",
              "      background-color: #3B4455;\n",
              "      fill: #D2E3FC;\n",
              "    }\n",
              "\n",
              "    [theme=dark] .colab-df-convert:hover {\n",
              "      background-color: #434B5C;\n",
              "      box-shadow: 0px 1px 3px 1px rgba(0, 0, 0, 0.15);\n",
              "      filter: drop-shadow(0px 1px 2px rgba(0, 0, 0, 0.3));\n",
              "      fill: #FFFFFF;\n",
              "    }\n",
              "  </style>\n",
              "\n",
              "    <script>\n",
              "      const buttonEl =\n",
              "        document.querySelector('#df-91a8405a-e0d6-4096-9d12-bbc9b14cd3bc button.colab-df-convert');\n",
              "      buttonEl.style.display =\n",
              "        google.colab.kernel.accessAllowed ? 'block' : 'none';\n",
              "\n",
              "      async function convertToInteractive(key) {\n",
              "        const element = document.querySelector('#df-91a8405a-e0d6-4096-9d12-bbc9b14cd3bc');\n",
              "        const dataTable =\n",
              "          await google.colab.kernel.invokeFunction('convertToInteractive',\n",
              "                                                    [key], {});\n",
              "        if (!dataTable) return;\n",
              "\n",
              "        const docLinkHtml = 'Like what you see? Visit the ' +\n",
              "          '<a target=\"_blank\" href=https://colab.research.google.com/notebooks/data_table.ipynb>data table notebook</a>'\n",
              "          + ' to learn more about interactive tables.';\n",
              "        element.innerHTML = '';\n",
              "        dataTable['output_type'] = 'display_data';\n",
              "        await google.colab.output.renderOutput(dataTable, element);\n",
              "        const docLink = document.createElement('div');\n",
              "        docLink.innerHTML = docLinkHtml;\n",
              "        element.appendChild(docLink);\n",
              "      }\n",
              "    </script>\n",
              "  </div>\n",
              "\n",
              "\n",
              "<div id=\"df-1c567f88-861c-4692-9cc6-a6e480c87b61\">\n",
              "  <button class=\"colab-df-quickchart\" onclick=\"quickchart('df-1c567f88-861c-4692-9cc6-a6e480c87b61')\"\n",
              "            title=\"Suggest charts\"\n",
              "            style=\"display:none;\">\n",
              "\n",
              "<svg xmlns=\"http://www.w3.org/2000/svg\" height=\"24px\"viewBox=\"0 0 24 24\"\n",
              "     width=\"24px\">\n",
              "    <g>\n",
              "        <path d=\"M19 3H5c-1.1 0-2 .9-2 2v14c0 1.1.9 2 2 2h14c1.1 0 2-.9 2-2V5c0-1.1-.9-2-2-2zM9 17H7v-7h2v7zm4 0h-2V7h2v10zm4 0h-2v-4h2v4z\"/>\n",
              "    </g>\n",
              "</svg>\n",
              "  </button>\n",
              "\n",
              "<style>\n",
              "  .colab-df-quickchart {\n",
              "      --bg-color: #E8F0FE;\n",
              "      --fill-color: #1967D2;\n",
              "      --hover-bg-color: #E2EBFA;\n",
              "      --hover-fill-color: #174EA6;\n",
              "      --disabled-fill-color: #AAA;\n",
              "      --disabled-bg-color: #DDD;\n",
              "  }\n",
              "\n",
              "  [theme=dark] .colab-df-quickchart {\n",
              "      --bg-color: #3B4455;\n",
              "      --fill-color: #D2E3FC;\n",
              "      --hover-bg-color: #434B5C;\n",
              "      --hover-fill-color: #FFFFFF;\n",
              "      --disabled-bg-color: #3B4455;\n",
              "      --disabled-fill-color: #666;\n",
              "  }\n",
              "\n",
              "  .colab-df-quickchart {\n",
              "    background-color: var(--bg-color);\n",
              "    border: none;\n",
              "    border-radius: 50%;\n",
              "    cursor: pointer;\n",
              "    display: none;\n",
              "    fill: var(--fill-color);\n",
              "    height: 32px;\n",
              "    padding: 0;\n",
              "    width: 32px;\n",
              "  }\n",
              "\n",
              "  .colab-df-quickchart:hover {\n",
              "    background-color: var(--hover-bg-color);\n",
              "    box-shadow: 0 1px 2px rgba(60, 64, 67, 0.3), 0 1px 3px 1px rgba(60, 64, 67, 0.15);\n",
              "    fill: var(--button-hover-fill-color);\n",
              "  }\n",
              "\n",
              "  .colab-df-quickchart-complete:disabled,\n",
              "  .colab-df-quickchart-complete:disabled:hover {\n",
              "    background-color: var(--disabled-bg-color);\n",
              "    fill: var(--disabled-fill-color);\n",
              "    box-shadow: none;\n",
              "  }\n",
              "\n",
              "  .colab-df-spinner {\n",
              "    border: 2px solid var(--fill-color);\n",
              "    border-color: transparent;\n",
              "    border-bottom-color: var(--fill-color);\n",
              "    animation:\n",
              "      spin 1s steps(1) infinite;\n",
              "  }\n",
              "\n",
              "  @keyframes spin {\n",
              "    0% {\n",
              "      border-color: transparent;\n",
              "      border-bottom-color: var(--fill-color);\n",
              "      border-left-color: var(--fill-color);\n",
              "    }\n",
              "    20% {\n",
              "      border-color: transparent;\n",
              "      border-left-color: var(--fill-color);\n",
              "      border-top-color: var(--fill-color);\n",
              "    }\n",
              "    30% {\n",
              "      border-color: transparent;\n",
              "      border-left-color: var(--fill-color);\n",
              "      border-top-color: var(--fill-color);\n",
              "      border-right-color: var(--fill-color);\n",
              "    }\n",
              "    40% {\n",
              "      border-color: transparent;\n",
              "      border-right-color: var(--fill-color);\n",
              "      border-top-color: var(--fill-color);\n",
              "    }\n",
              "    60% {\n",
              "      border-color: transparent;\n",
              "      border-right-color: var(--fill-color);\n",
              "    }\n",
              "    80% {\n",
              "      border-color: transparent;\n",
              "      border-right-color: var(--fill-color);\n",
              "      border-bottom-color: var(--fill-color);\n",
              "    }\n",
              "    90% {\n",
              "      border-color: transparent;\n",
              "      border-bottom-color: var(--fill-color);\n",
              "    }\n",
              "  }\n",
              "</style>\n",
              "\n",
              "  <script>\n",
              "    async function quickchart(key) {\n",
              "      const quickchartButtonEl =\n",
              "        document.querySelector('#' + key + ' button');\n",
              "      quickchartButtonEl.disabled = true;  // To prevent multiple clicks.\n",
              "      quickchartButtonEl.classList.add('colab-df-spinner');\n",
              "      try {\n",
              "        const charts = await google.colab.kernel.invokeFunction(\n",
              "            'suggestCharts', [key], {});\n",
              "      } catch (error) {\n",
              "        console.error('Error during call to suggestCharts:', error);\n",
              "      }\n",
              "      quickchartButtonEl.classList.remove('colab-df-spinner');\n",
              "      quickchartButtonEl.classList.add('colab-df-quickchart-complete');\n",
              "    }\n",
              "    (() => {\n",
              "      let quickchartButtonEl =\n",
              "        document.querySelector('#df-1c567f88-861c-4692-9cc6-a6e480c87b61 button');\n",
              "      quickchartButtonEl.style.display =\n",
              "        google.colab.kernel.accessAllowed ? 'block' : 'none';\n",
              "    })();\n",
              "  </script>\n",
              "</div>\n",
              "\n",
              "    </div>\n",
              "  </div>\n"
            ],
            "text/plain": [
              "          Date    Year        Type    Country              State  \\\n",
              "0  15 Mar 2024  2024.0  Unprovoked  AUSTRALIA         Queensland   \n",
              "1  04 Mar 2024  2024.0  Unprovoked        USA             Hawaii   \n",
              "2  02 Mar-2024  2024.0  Unprovoked        USA             Hawaii   \n",
              "3  25 Feb-2024  2024.0  Unprovoked  AUSTRALIA  Western Australia   \n",
              "4  14 Feb-2024  2024.0  Unprovoked      INDIA        Maharashtra   \n",
              "\n",
              "                           Location  Activity                 Name Sex  Age  \\\n",
              "0                     Bargara Beach  Swimming       Brooklyn Sauer   F   13   \n",
              "1                Old Man's, Waikiki   Surfing        Matthew White   M  NaN   \n",
              "2                    Rainbows, Oahu  Swimming                  NaN   F   11   \n",
              "3        Sandlnd Island, Jurian Bay       NaN               female   F   46   \n",
              "4  Vaitarna River, Palghar District   Fishing  Vicky Suresh Govari   M   32   \n",
              "\n",
              "   ...        Species                      Source  pdf href formula href  \\\n",
              "0  ...     Tiger shark      Yahoo News, 3/15/2024  NaN          NaN  NaN   \n",
              "1  ...  Tiger shark 8'          Surfer, 3/6/2024F  NaN          NaN  NaN   \n",
              "2  ...  3' to 4' shark  Hawaii News Now, 3/4/2024  NaN          NaN  NaN   \n",
              "3  ...     Tiger shark        WA Today, 2/26/2024  NaN          NaN  NaN   \n",
              "4  ...  Bull shark, 7'  Times of India, 2/14/2024  NaN          NaN  NaN   \n",
              "\n",
              "  Case Number Case Number.1 original order Unnamed: 21 Unnamed: 22  \n",
              "0         NaN           NaN            NaN         NaN         NaN  \n",
              "1         NaN           NaN            NaN         NaN         NaN  \n",
              "2         NaN           NaN            NaN         NaN         NaN  \n",
              "3         NaN           NaN            NaN         NaN         NaN  \n",
              "4         NaN           NaN            NaN         NaN         NaN  \n",
              "\n",
              "[5 rows x 23 columns]"
            ]
          },
          "execution_count": 2,
          "metadata": {},
          "output_type": "execute_result"
        }
      ],
      "source": [
        "# Head of original data\n",
        "shark_data.head(5)"
      ]
    },
    {
      "cell_type": "code",
      "execution_count": 3,
      "metadata": {
        "colab": {
          "base_uri": "https://localhost:8080/"
        },
        "id": "z6piARkiAjBT",
        "outputId": "7b9b2db1-62da-4681-a7b4-a67a1da1d484"
      },
      "outputs": [
        {
          "data": {
            "text/plain": [
              "(6969, 23)"
            ]
          },
          "execution_count": 3,
          "metadata": {},
          "output_type": "execute_result"
        }
      ],
      "source": [
        "# Shape of original data\n",
        "initial_data_shape = shark_data.shape\n",
        "initial_data_shape"
      ]
    },
    {
      "cell_type": "code",
      "execution_count": 4,
      "metadata": {
        "colab": {
          "base_uri": "https://localhost:8080/"
        },
        "id": "axQUOy1p-OnS",
        "outputId": "16a8f4ab-46be-4e3d-e2e9-a07203f677d4"
      },
      "outputs": [
        {
          "data": {
            "text/plain": [
              "Index(['Date', 'Year', 'Type', 'Country', 'State', 'Location', 'Activity',\n",
              "       'Name', 'Sex', 'Age', 'Injury', 'Unnamed: 11', 'Time', 'Species ',\n",
              "       'Source', 'pdf', 'href formula', 'href', 'Case Number', 'Case Number.1',\n",
              "       'original order', 'Unnamed: 21', 'Unnamed: 22'],\n",
              "      dtype='object')"
            ]
          },
          "execution_count": 4,
          "metadata": {},
          "output_type": "execute_result"
        }
      ],
      "source": [
        "# Columns of original data\n",
        "shark_data.columns"
      ]
    },
    {
      "cell_type": "code",
      "execution_count": 5,
      "metadata": {
        "colab": {
          "base_uri": "https://localhost:8080/"
        },
        "id": "msJc_1xMBZXe",
        "outputId": "40c6947d-81a7-4cc1-bd22-26a9d1ee6dd9"
      },
      "outputs": [
        {
          "data": {
            "text/plain": [
              "array(['AUSTRALIA', 'USA', 'INDIA', 'TRINIDAD', 'BAHAMAS', 'SOUTH AFRICA',\n",
              "       'MEXICO', 'NEW ZEALAND', 'EGYPT', 'Mexico', 'BELIZE',\n",
              "       'PHILIPPINES', 'Coral Sea', 'SPAIN', 'PORTUGAL', 'SAMOA',\n",
              "       'COLOMBIA', 'ECUADOR', 'FRENCH POLYNESIA', 'NEW CALEDONIA',\n",
              "       'TURKS and CaICOS', 'CUBA', 'BRAZIL', 'SEYCHELLES', 'ARGENTINA',\n",
              "       'FIJI', 'MeXICO', 'Maldives', 'South Africa', 'ENGLAND', 'JAPAN',\n",
              "       'INDONESIA', 'JAMAICA', 'MALDIVES', 'THAILAND', 'COLUMBIA',\n",
              "       'COSTA RICA', 'New Zealand', 'British Overseas Territory',\n",
              "       'CANADA', 'JORDAN', 'ST KITTS / NEVIS', 'ST MARTIN',\n",
              "       'PAPUA NEW GUINEA', 'REUNION ISLAND', 'ISRAEL', 'CHINA', 'IRELAND',\n",
              "       'ITALY', 'MALAYSIA', 'LIBYA', nan, 'MAURITIUS', 'SOLOMON ISLANDS',\n",
              "       'ST HELENA, British overseas territory', 'COMOROS', 'REUNION',\n",
              "       'UNITED KINGDOM', 'UNITED ARAB EMIRATES', 'CAPE VERDE', 'Fiji',\n",
              "       'DOMINICAN REPUBLIC', 'CAYMAN ISLANDS', 'ARUBA', 'MOZAMBIQUE',\n",
              "       'PUERTO RICO', 'ATLANTIC OCEAN', 'GREECE', 'ST. MARTIN', 'FRANCE',\n",
              "       'TRINIDAD & TOBAGO', 'KIRIBATI', 'DIEGO GARCIA', 'TAIWAN',\n",
              "       'PALESTINIAN TERRITORIES', 'GUAM', 'NIGERIA', 'TONGA', 'SCOTLAND',\n",
              "       'CROATIA', 'SAUDI ARABIA', 'CHILE', 'ANTIGUA', 'KENYA', 'RUSSIA',\n",
              "       'TURKS & CAICOS', 'UNITED ARAB EMIRATES (UAE)', 'AZORES',\n",
              "       'SOUTH KOREA', 'MALTA', 'VIETNAM', 'MADAGASCAR', 'PANAMA',\n",
              "       'SOMALIA', 'NEVIS', 'BRITISH VIRGIN ISLANDS', 'NORWAY', 'SENEGAL',\n",
              "       'YEMEN', 'GULF OF ADEN', 'Sierra Leone', 'ST. MAARTIN',\n",
              "       'GRAND CAYMAN', 'Seychelles', 'LIBERIA', 'VANUATU', 'MEXICO ',\n",
              "       'HONDURAS', 'VENEZUELA', 'SRI LANKA', ' TONGA', 'URUGUAY',\n",
              "       'MICRONESIA', 'CARIBBEAN SEA', 'OKINAWA', 'TANZANIA',\n",
              "       'MARSHALL ISLANDS', 'EGYPT / ISRAEL', 'NORTHERN ARABIAN SEA',\n",
              "       'HONG KONG', 'EL SALVADOR', 'ANGOLA', 'BERMUDA', 'MONTENEGRO',\n",
              "       'IRAN', 'TUNISIA', 'NAMIBIA', 'NORTH ATLANTIC OCEAN',\n",
              "       'SOUTH CHINA SEA', 'BANGLADESH', 'PALAU', 'WESTERN SAMOA',\n",
              "       'PACIFIC OCEAN ', 'BRITISH ISLES', 'GRENADA', 'IRAQ', 'TURKEY',\n",
              "       'SINGAPORE', 'NEW BRITAIN', 'SUDAN', 'JOHNSTON ISLAND',\n",
              "       'SOUTH PACIFIC OCEAN', 'NEW GUINEA', 'RED SEA',\n",
              "       'NORTH PACIFIC OCEAN', 'FEDERATED STATES OF MICRONESIA',\n",
              "       'MID ATLANTIC OCEAN', 'ADMIRALTY ISLANDS', 'BRITISH WEST INDIES',\n",
              "       'SOUTH ATLANTIC OCEAN', 'PERSIAN GULF', 'RED SEA / INDIAN OCEAN',\n",
              "       'PACIFIC OCEAN', 'NORTH SEA', 'NICARAGUA ', 'MALDIVE ISLANDS',\n",
              "       'AMERICAN SAMOA', 'ANDAMAN / NICOBAR ISLANDAS', 'GABON', 'MAYOTTE',\n",
              "       'NORTH ATLANTIC OCEAN ', 'THE BALKANS', 'SUDAN?', 'MARTINIQUE',\n",
              "       'INDIAN OCEAN', 'GUATEMALA', 'NETHERLANDS ANTILLES',\n",
              "       'NORTHERN MARIANA ISLANDS', 'IRAN / IRAQ', 'JAVA', 'SIERRA LEONE',\n",
              "       ' PHILIPPINES', 'NICARAGUA', 'CENTRAL PACIFIC',\n",
              "       'SOLOMON ISLANDS / VANUATU', 'SOUTHWEST PACIFIC OCEAN',\n",
              "       'BAY OF BENGAL', 'MID-PACIFC OCEAN', 'SLOVENIA', 'CURACAO',\n",
              "       'ICELAND', 'ITALY / CROATIA', 'BARBADOS', 'MONACO', 'GUYANA',\n",
              "       'HAITI', 'SAN DOMINGO', 'KUWAIT', 'YEMEN ', 'FALKLAND ISLANDS',\n",
              "       'CRETE', 'CYPRUS', 'EGYPT ', 'WEST INDIES', 'BURMA', 'LEBANON',\n",
              "       'PARAGUAY', 'BRITISH NEW GUINEA', 'CEYLON', 'OCEAN', 'GEORGIA',\n",
              "       'SYRIA', 'TUVALU', 'INDIAN OCEAN?', 'GUINEA', 'ANDAMAN ISLANDS',\n",
              "       'EQUATORIAL GUINEA / CAMEROON', 'COOK ISLANDS', 'TOBAGO', 'PERU',\n",
              "       'AFRICA', 'ALGERIA', 'Coast of AFRICA', 'TASMAN SEA', 'GHANA',\n",
              "       'GREENLAND', 'MEDITERRANEAN SEA', 'SWEDEN', 'ROATAN',\n",
              "       'Between PORTUGAL & INDIA', 'DJIBOUTI', 'BAHREIN', 'KOREA',\n",
              "       'RED SEA?', 'ASIA?', 'CEYLON (SRI LANKA)'], dtype=object)"
            ]
          },
          "execution_count": 5,
          "metadata": {},
          "output_type": "execute_result"
        }
      ],
      "source": [
        "# Verifing how USA is written in the dataframe\n",
        "shark_data.Country.unique()"
      ]
    },
    {
      "cell_type": "code",
      "execution_count": 6,
      "metadata": {
        "id": "Wg7RR4eJGn6_"
      },
      "outputs": [],
      "source": [
        "# Removing every row that's not USA\n",
        "usa_data = shark_data[shark_data['Country'] == 'USA']"
      ]
    },
    {
      "cell_type": "code",
      "execution_count": 7,
      "metadata": {
        "colab": {
          "base_uri": "https://localhost:8080/"
        },
        "id": "ghfV3ycFCBsb",
        "outputId": "79a64320-6d4f-498f-fadb-35fd25038d6f"
      },
      "outputs": [
        {
          "data": {
            "text/plain": [
              "array(['Queensland', 'Hawaii', 'Western Australia', 'Maharashtra', nan,\n",
              "       'New  South Wales', 'Paradise Island', 'South Australia',\n",
              "       'Eastern Cape Province', 'Sonora', 'New South Wales',\n",
              "       'South Island', 'Guerrero', 'New Providence   Isoad', 'Jalisco',\n",
              "       'Grand  Bahama Island', 'Florida', 'Westerm Australia',\n",
              "       'North Island', 'Southern Red Sea', 'Quintana Roo',\n",
              "       'Belize District', 'California', 'South Carolina', 'South Sinai',\n",
              "       'Bolinao', 'North Carolina', 'Valencia', 'Norte', \"Savai'i island\",\n",
              "       'New York', 'San Andrés Island', 'Galapagos Islands',\n",
              "       'Red Sea Protectorate', 'Freeport', 'Tahiti', 'Poum',\n",
              "       'Providenciales Island', 'Lucayan Lucayan Archipelago',\n",
              "       'New Jersey', 'Mayabeque', 'Easten Cape Province', 'Artemisa',\n",
              "       'Pernambuco', 'Praslin Island', 'South Province', 'Patagonia',\n",
              "       'Taveuni Island', 'Gulf of California', 'Vaavu Atoll', 'KNZ',\n",
              "       'New South ales', 'Samoa', 'Texas', 'Louisiana', 'Mississippi',\n",
              "       'Western  Australia', 'Victoria', 'Western Cape Province',\n",
              "       'Cornwall', 'Noirth Carolina', 'Okinawa', 'Bali',\n",
              "       'Hurghada, Red Sea Governorate', 'Ambergris Cay', 'Bora Bora',\n",
              "       'Georgia', 'Phuket', 'Alabama', 'KZN', 'Isla De San Andres',\n",
              "       'Guanacoste', 'KwaZulu-Natal', 'São Paulo.', 'Turks and Caicos',\n",
              "       'Nova Scotia', 'Maryland', 'Chanthaburi Province', 'BAHAMAS',\n",
              "       'Galapagos', 'Aqaba', 'West Sussex', 'Nouville', 'Ambergris Key',\n",
              "       'Westmoreland Parish', 'Marquesas', 'Loyalty Islands', 'Maui',\n",
              "       'The Narrows', 'Raa Atoll', 'Oregon', ' Grand Bahama Island',\n",
              "       'Franklin County, Florida', 'Virgin Islands', 'Tasmania',\n",
              "       'Tuamotu Islands', 'Maine', 'Bahamas', 'Exumas', 'Delaware',\n",
              "       'Abaco Islands', 'Muang district of Satun province, ',\n",
              "       'Canary Islands', 'Vanua Levu', 'Southland', 'Phang Nga Province',\n",
              "       'Praslin', 'Central Province', 'Holquin', 'Moorea', 'Baja ',\n",
              "       'Saint-Gilles', 'Guam', 'Northern Territory ', 'Cayman Islands',\n",
              "       'Rhode Island', 'Chatham Islands', 'Quinta Roo',\n",
              "       'Lucayan Archipelago', 'Bélep Islands', 'Noumea',\n",
              "       'Fernando de Noronha', 'Liaoning Province', 'New South Wales ',\n",
              "       'Upolo', 'St. Marys Parish', 'Massachusetts', 'County Cork',\n",
              "       'Chieti, Province', 'Guizhou Province',\n",
              "       'San Andres and Providencia Archipelago', 'The Exuma Cays',\n",
              "       'Colima', 'Hua Hin', 'Cocos Island', 'Alifu Alifu Atoll',\n",
              "       'New Providence', 'Alagoas', 'Boi Island, Victoria', 'Sepang',\n",
              "       'Holquin Province', 'Pamplemousses ', ' Upolu Island',\n",
              "       'Shizuoka Prefecture', 'Castellón', 'New Providence District',\n",
              "       '40 miles off Grand Bahama Island', 'Ascension Island', 'Majorca',\n",
              "       'Washington', 'Tabasco', 'Anjouan', 'Ibiza Island', 'South Devon',\n",
              "       'New Providence ', 'Sharjah, ', 'Baja California Sur', 'Saint-Leu',\n",
              "       'Luzon Island', 'Tamaulipas', 'Saint-Andre', 'Bimini', 'Tuamotos',\n",
              "       'North Province', 'New Providence Island', 'Alicante Province',\n",
              "       'Hong Kong', 'Kochi Prefecture', 'Isla Providencia', 'Suez',\n",
              "       'Grand Terre', 'Boa Vista Island', 'Santa Catarina State',\n",
              "       'Altagracia Province', 'Grand Cayman', 'Balneário Camboriú',\n",
              "       'Fujairah Emirate', 'Grand Canary Island', 'Inhambane Province',\n",
              "       'Alicante', 'Guanacaste', 'Grand Bahama Island', 'Le Port',\n",
              "       'Rangiroa', 'Saint-Gilles-les-Bains', 'Sardinia', 'Sinaloa',\n",
              "       'Central Tuamotu', 'd’Étang-Salé', 'Granada',\n",
              "       'Cargados Carajos Shoals (St. Brandon)', 'Catalonia', 'West End',\n",
              "       'Atsumi peninsula', 'Palmyra Atoll', 'Wallis and Futuna',\n",
              "       'Baie de Sainte-Marie', 'Society Islands', 'Trinidad',\n",
              "       'Okinawa Prefecture', '740 miles SE of Tarawa Atoll',\n",
              "       'Southern District', 'Bay of Biscay', 'Exuma Islands',\n",
              "       'Saint-Paul', 'Taitung ', 'Kingston Parish', 'Santa Cruz Island',\n",
              "       'Tuamotus', 'Eleuthera', 'St. Catherine', 'Palawan',\n",
              "       'Mercury Islands', 'Delta', \"Vava'u\", 'Inner Hebrides',\n",
              "       'Saint Leu', 'Trois-Bassins', 'British Colombia', 'Saint-Benoit',\n",
              "       'Tabuk Province', 'Antofagasta Province', \"St John's\",\n",
              "       'Santa Elena', 'East New Britain', 'Bois-Blanc ', 'Moray',\n",
              "       'Puerto Rico', 'Samaná Province', 'Coast Province',\n",
              "       'Primorsky Krai',\n",
              "       'Peter the Great Bay, Khasan, Primorsky Krai (Far East)',\n",
              "       'Telyakovsky Bay, Khasan,  Primorsky Krai (Far East)', 'Sucre',\n",
              "       'Middle Caicos', 'Caicos Bank', 'San Andrés archipelago', 'Kedah',\n",
              "       'Umm al Qaywayan Province', 'Vitu Levu', 'South Sinai Peninsula',\n",
              "       ' Loyalty Islands', 'Saint Gilles ', 'Virginia', \"Ha'api \",\n",
              "       'Western Province', 'Jeju Province', 'Binh Dinh Province',\n",
              "       'Antsiranana Province', 'Sinai Peninsula', 'Off Vanua Levu',\n",
              "       'Merizo', 'Rio Grande Do Sul', 'Dubai', 'Torres Strait',\n",
              "       'Eastern Province', 'Eastern Cape  Province', 'Maputo Province',\n",
              "       'Bocas', 'Fife', 'Devon', 'Makira-Ulawa Province', 'Mombasa',\n",
              "       'Catalunya', 'St. Johns Reef', 'Off Green Island', 'North Region',\n",
              "       'Batangas province', 'Strait of Malacca', 'Guantanamo Province',\n",
              "       'Maranhão', 'Red Sea', 'Batanes Provine', 'Luzon',\n",
              "       'Northern Territory', ' Split-Dalmatia Count,', 'North Devon',\n",
              "       'US Virgin Islands', 'San Carlos', 'Cabo San Lucas', 'Sussex',\n",
              "       'Bahia', 'Easter Ross', 'Guerro', 'Yasawa Islands',\n",
              "       'Northern Bahamas', 'Tokyo Bay', 'Baja California', 'Green Bay',\n",
              "       'Marovo Lagoon', 'Territory of Cocos (Keeling) Islands',\n",
              "       'Oslo Fjord', 'Kent', 'Bird Island', 'Providenciales',\n",
              "       'Bimini Islands', 'Muhafazat Hadramawt', 'Cook islans',\n",
              "       'Surigao del Norte', 'Between Somalia & Yemen', 'Ambergris Caye',\n",
              "       'Saint-Pierre', 'Kentucky', 'Andros Islands', 'Western Area',\n",
              "       '300 miles from Antigua', '800 miles from land',\n",
              "       '600 nm west of the Canary Islands', 'Simpson Bay', 'East Wall',\n",
              "       'Inner Islands', 'Shanghai', 'Malampa Province',\n",
              "       \"South Ch'ungch'ong Province\", 'Bay Islands', 'New Mexico',\n",
              "       'Santa Isabel Province', 'Santiago de Cuba Province',\n",
              "       'Camaguey Province', 'Conservatória District', 'South Carolina ',\n",
              "       'Kuril Islands in the Pacific', 'Wakayama Prefecture',\n",
              "       \"Nuku'alofa\", 'Saint-Benoît',\n",
              "       'South Island, near Karitane north of Dunedin', 'Rocha',\n",
              "       'Northlands', 'Anzoategui', 'Cook Islands', 'Tamil Nadu',\n",
              "       'Pearl Islands', 'Taveuni', 'Johnston Atoll', 'Baatan',\n",
              "       'Rio de Janeiro', 'Nueva Esparta', 'North Pacific coast',\n",
              "       'Caroline Islands', 'Cheshire', 'Louisiade Archipelago',\n",
              "       'KwaZulu-Natal between Port Edward and Port St Johns',\n",
              "       'Milne Bay Province', 'Cikobia Island (north of Vanua Levu)',\n",
              "       'Rayong Province', 'Zamboanga del Sur Province',\n",
              "       'Rio Grande de Norte',\n",
              "       'Off the western coast of peninsular Malaysia', 'New Brunswick',\n",
              "       'Miyako Island', 'Alaska', 'Minerva Reef', 'Madang Province',\n",
              "       'Worcestershire', 'Phang nga Province', 'Alinglaplap Atoll',\n",
              "       'Adriatic Sea', 'Ralik Chain', 'Grand Baie',\n",
              "       \"L' Etang Salé-les-Bains\", 'Southern Japan', 'Cap Vert Peninsula',\n",
              "       'Marches region', 'Berry Islands', 'Transvaal', 'Gaza',\n",
              "       \"Grand'Anse\", 'Beaufonds', 'Miyako', \"L'Etang-Sale\",\n",
              "       'Chatham Islands ', 'South Sinai, Gulf of Aqaba', 'Cat Cay',\n",
              "       'Missouri', '12 miles off the north coast', 'Saint-Paul ',\n",
              "       'Chatham Islands, east of New  Zealand', 'Saint-Denis', 'Vava’u',\n",
              "       'Clearwater Bay', 'New Territories', 'Aichi Prefecture',\n",
              "       'Tafea Province', 'Kagoshima Prefecture', 'Saint-Joseph',\n",
              "       'Banaadir Region', 'La Libertad', 'Costa Blanca', 'Walkers Cay',\n",
              "       'On the Kowloon penisula, south of Sai Kung', 'Ehime Prefecture',\n",
              "       'Tongapatu Group', 'West Africa', 'Wakaya Island',\n",
              "       'North Carolina ', 'Mexico / Caribbean Sea', 'Antarctic Ocean',\n",
              "       'La Saline-les-Bains', 'Sea of Japan', 'Tavenui', 'Ligurian Sea',\n",
              "       \"L'Etang-Salé\", 'Kowloon Peninsula', 'Port Shelter',\n",
              "       'Laucala Island', 'Sainte-Marie', 'Great Exuma Island',\n",
              "       'Sainte-Suzanne', 'Tuscany', 'Tyrrhenian Sea', 'New Ireland',\n",
              "       'Valpariso Province', 'Viscayan Sea', 'Manfredonia ',\n",
              "       'Tokyo Prefecture', 'Saint-Louis', 'Mindoro',\n",
              "       'Between DR and Puerto Rico', 'Between Honiara & Isabel Island',\n",
              "       'Florida Straits', 'Gulf of Lyons', 'Cádiz', 'Sicily',\n",
              "       'Andikira Fokithes', 'Central Philippines', 'Northwest Italy',\n",
              "       'English Channel', 'North & South Carolina', 'Carolina coast',\n",
              "       'Kumamoto Prefecture', 'Biserta', 'Saint-Philippe', 'Chungnam',\n",
              "       'Eronogo Region', 'Coquimbo', 'Pagasitikos Gulf',\n",
              "       \"St. Mary's Parish\", 'Romblon Province', 'Lamu Archipelago',\n",
              "       'Los Vilos', 'Island of Kos', \"Ha'api\", 'Madeira Islands',\n",
              "       'Ho Ha Wan Marine Park', 'Southern Thailand', 'Golfo de Venezia',\n",
              "       'Ralik Archipelago', 'South China Sea 200 miles from Hong Kong',\n",
              "       'Reggio Calabria Province', 'Mirs Bay ', 'Genoa Province',\n",
              "       'Ganges-Brahmaputra delta', ' Split-Dalmatia County', 'Florida ',\n",
              "       'Primorje-Gorski Kotar County ', 'Aulong Island',\n",
              "       'Western Caroline Islands', 'Upolu Island', 'Antibes',\n",
              "       'Illeginni Atoll', 'Istria County', 'Between Beira & Maputo',\n",
              "       'Istria ', 'Khuzestan Province', 'Inhambe Province',\n",
              "       'Namonuito Atoll', 'Eastern Caroline Islands',\n",
              "       'Western Caroline Islands (North Pacific Ocean)', 'Caribbean Sea',\n",
              "       'St. Andrew Parish', '200 nm southeast of Manila', 'Limpopo River',\n",
              "       'New Ireland Province', 'Zadar County', 'Basrah', 'Clarendon',\n",
              "       'Moro Gulf', 'Johor', 'Magdalena Department', 'Mafia Island',\n",
              "       'Gulf Province', 'Morobe Province', 'Limón Province',\n",
              "       'Rombion Province', 'Veracruz', 'Brindisi Province',\n",
              "       'Kagawa Prefecture', 'Liguria', 'Hamilton', 'Out Islands',\n",
              "       'Mugla Province', 'Gibraltar', 'New Britain', 'Bay of Maputo',\n",
              "       'Duke of York Islands', 'Taranto province', 'Northern Taiwan',\n",
              "       'Admiralty Islands, Manus Province', 'North Sumatra',\n",
              "       \"250 miles southwest of O'ahu, Hawaii\", 'West coast', 'East Sepik',\n",
              "       'Near Bougainville (North Solomons)', 'East of the Gulf of Aqaba',\n",
              "       'Bougainville (North Solomons)', 'Victoria ', 'Okayama Prefecture',\n",
              "       'San Blas', 'Connecticut', 'Lau Group', 'Caribbean Coast',\n",
              "       'Vita Levu', 'San Blas Islands', 'Puntarenas Province',\n",
              "       'Lomaloma, Lau', 'Between Southampton & Canary Islands',\n",
              "       'South Coast, East New Britain', ' Lau Province', 'Ysabel Island',\n",
              "       'Santo Domingo', 'San Blas coast', 'Thessaly',\n",
              "       'Lomaiviti  Island Group', 'Rodrigues', 'Manus Island',\n",
              "       'Pinas Bay', 'Grand Turk Island', 'Off coast of West Africa',\n",
              "       'Sharon', 'Antalya Province', 'Northern District',\n",
              "       'New Ireland Province, Bismarck Archipelago', 'Cyclades',\n",
              "       'Viti Levu', 'Off the Coromandel Peninsula, North Island',\n",
              "       'Madang', 'Guadalcanal Province', '10ºS, 142ºE', 'Kwajalein Atoll',\n",
              "       'East Flores', 'Guerrrero', 'Western Luzon Island',\n",
              "       'Shefa Province', '165  miles from Bermuda',\n",
              "       '25 km off the coast of Iran & 483km from mouth of Persian Gulf',\n",
              "       'Venice Province', 'Sandaun Province', 'Anatolia',\n",
              "       'East New Britain Province', 'United Arab Emirates',\n",
              "       'Wake Island (EnenKio)', '19S, 178?E', 'Pennsylvania',\n",
              "       '9.35N 79.35W', 'Roncador Bank', 'Western District',\n",
              "       'Enroute from Suez to Aden (Yemen)',\n",
              "       '180 miles southeast of Okinawa', 'Eniwetok Atoll',\n",
              "       'Cap-Vert Peninsula', 'Delagoa Bay', 'In the English Channel ',\n",
              "       'Cook Strait', 'Unknown, treated at Wick, SCOTLAND',\n",
              "       'Corregidor Island', 'Paget', '33N, 68W', 'Casamance',\n",
              "       'Madang (WO)', 'Between Timor & Darwin, Australia',\n",
              "       'Pacific coast', 'St. Georges ', 'Eastern  Province',\n",
              "       'Northwest of Viti Levu', 'West New Britain Province',\n",
              "       'Rigo subdistrict', 'Masbate', '400 miles southeast of Sri Lanka',\n",
              "       'Lomaiviti Province', 'Kadavu', 'Leyte Island', 'Orissa',\n",
              "       'Hokkaido Prefecture', 'North Palawan', 'Queaon', 'Istria',\n",
              "       'PANAMA', 'In the Gulf Stream ', 'Mersin Province', 'Guyamas',\n",
              "       'Between England & South Africa', 'Mindanao',\n",
              "       ' Kikori River mouth', 'South Chungcheong Province',\n",
              "       'Ahirkapi coast', 'Tutuila Island', 'Primorje-Gorski Kotar County',\n",
              "       'Between Hawaii & Wake Island', 'Taipei Hsien',\n",
              "       'Ibaraki Prefecture', 'South Pacific Ocean', 'Canal Zone',\n",
              "       '1,000 miles east of Hawaii', 'Honiara', 'Yucatan Channel',\n",
              "       'Havana Province', 'Karun River',\n",
              "       'Abau Subdistrict,Central Province',\n",
              "       'New Britain, Bismarck Archipelago', 'Estuaire Province',\n",
              "       'Near Dakar, Cap Vert Peninsula',\n",
              "       'Near the Andaman & Nicobar Islands', 'Mozambique Channel',\n",
              "       'Tyrrenian Sea', 'Congreve Channel', 'St. Thomas Bay', 'Madeira',\n",
              "       'Between Comores & Madagascar', 'Corfu Island',\n",
              "       '1000 miles west of Hawaii', 'Izo Islands',\n",
              "       ' Primorje-Gorski Kotar County', 'Open sea', 'Aden',\n",
              "       'New Ireland, Bismarck Archipelago', '18S / 50E', 'Illinois',\n",
              "       'Isles del Rosario', 'Wake Island', 'Isle of Man',\n",
              "       'Nagasaki Prefecture', 'Liguaria', 'Slovenia', 'South shore ',\n",
              "       'Buenos Aires Province', '330 to 350 miles east of Wake Island',\n",
              "       'Gulf of Panama', 'Genoa  Province',\n",
              "       'Abau Sub District, Central Province', 'Teramo', 'Red Sea State',\n",
              "       'Curacao', 'Port Louis Province', 'Montserrado', 'Bay of Maputu',\n",
              "       'Sofala Province', 'Salerno', 'Salerno Province', 'Taranto',\n",
              "       'Naples Province', ' La Libertad', 'Sago Prefecture', 'Savona',\n",
              "       'Southern Province', 'Jakarta Harbour', 'Singapore Harbor',\n",
              "       'Calabria', 'Shatt-el-Arab River', 'Shatt-al-Arab River',\n",
              "       'Calvados Archipelago', 'Shat-Al-Arab River',\n",
              "       'Between Kwajalein Atoll & Johnston Island', 'Attica',\n",
              "       'Adana Province', 'Bandar Ma’shur sea inlet', 'Saipan',\n",
              "       'Carpathian Sea', 'Kwajalein', 'Dar-es-Salaam ',\n",
              "       '\"Head of the Gulf\"', 'Ryukyu', ' North Carolina',\n",
              "       'In transit between Tinian and Leyte', 'Northern Java', 'Tel Aviv',\n",
              "       'Colon Province', '300 miles east of Luzon',\n",
              "       'Bernardino Strait near Gulf of Leyte',\n",
              "       'Off Samar Island in the Gulf of Leyte',\n",
              "       'Lake Nicaragua (fresh water)', 'Pacific Ocean',\n",
              "       'Near the Fiji Islands', '40 miles south of Naples ',\n",
              "       'Northwest of Papua New Guinea', 'Between Hawaii and U.S.A.',\n",
              "       'Off South American coast', 'Makora-Ulawa Province',\n",
              "       '04.05N-13.23W', 'Midway Atoll',\n",
              "       '300 miles east of St. Thomas (Virgin Islands)',\n",
              "       'West of Ceylon (Sri  Lanka)', 'East Java', 'Camiguin Island',\n",
              "       'Cay Sal Bank', '(Southwestern Pacific)', 'Panama City',\n",
              "       'Off Libya', 'North of Pernambuco, Brazil', 'Off coast of Ecuador',\n",
              "       'Trelawney Province', 'In Convoy OB 274', 'New Georgia',\n",
              "       'Panama Bay (Pacific Ocean)', 'Bwagaoia', 'Western Papuan Gulf',\n",
              "       'Torres Strait ', 'Carabobo', 'Ascension Bay', 'North China',\n",
              "       'Lower San Juan River', 'Nicoya Peninsula', 'Basrah City',\n",
              "       'West Bengal', 'Queensland ', 'Argyllshire', 'Arran', 'Argyll',\n",
              "       'Fishing Grounds', 'Newfoundland', 'Isle of Wight',\n",
              "       'Makira-Uluwa Province', 'Northern (Oro) Province', 'Herzliyah',\n",
              "       'Elqui Province', 'Istanbul', 'St Michael Parish',\n",
              "       'Barlavento Islands', 'Viti Levu Island', 'Bay of Fundy', 'Manila',\n",
              "       'French Southern Territories', 'Niua ', 'Black River',\n",
              "       'Phoenix Islands', 'Cienfuegos Province', 'Santiago Island',\n",
              "       'Near Puntarenas', 'Porto Seguro', 'Salinas Bay',\n",
              "       'Golfo di Genova in the Ligurian Sea', 'Sants-Montjic',\n",
              "       'South of the Equator ', 'Bay of Monaco', 'Valencia ', 'Vancouver',\n",
              "       '2 to 3 miles off Taboguilla Island, Pacific Ocean', 'Dorset',\n",
              "       '150 miles offshore', 'Galica', 'Demerara County', 'Vera Cruz',\n",
              "       ' Manila Bay', 'Lucy', 'East Yorkshire', 'Cavite Province, Luzon',\n",
              "       'Cape Haitien', 'Leyte', 'Halifax', 'Turtle Bogue',\n",
              "       '60 miles north of San Domingo in the West Indies', 'Colon',\n",
              "       'Off Ireland', 'Mediterranean Sea', 'Gran Canaria',\n",
              "       'Apolima Strait', 'Essequibo', 'Lagos ', 'Trieste', '5aint-Denis',\n",
              "       'Viti Levu group', 'Balearics', 'Málaga ', 'Georges Bank',\n",
              "       'Zambesi River', 'Colón Province', '30 nm from Singapore',\n",
              "       'Andalucia', 'Sfax', 'South Atlantic Ocean', 'Galicia',\n",
              "       'Gulf of Suez', 'Java', 'Tiburon Peninsula', 'Oaxaca',\n",
              "       'Harare Province', 'Khánh Hòa Province', 'Maluku Province',\n",
              "       'Suez Canal', ' Nusa Tenggara', 'Between Noumea & Sydney',\n",
              "       'Villa Clara Province', 'Ancona Province', 'Quezon',\n",
              "       'Rio San Juan', 'Southern Cyprus', 'Syracuse', 'Western Viscayas',\n",
              "       'Mindoro Occidental', 'Negros ', 'Imperia Province', 'Muala',\n",
              "       'East coast', 'Ratak ', 'Socotra Islands', 'Off Cape Haitien',\n",
              "       'Moluccas', 'Bocas del Toro', 'Provence', 'Bay of Campeche',\n",
              "       'Rangoon', 'Bay of Bengal', 'Bayelsa State', 'South Island?',\n",
              "       'Norfolk Island', 'Brittany', 'Line Islands', 'Woodlark Islands',\n",
              "       'Munxar Reef', 'Northern Peloponnese', 'Between Perth & Colombo',\n",
              "       'Gujarat', 'Lukovo', 'Cortés',\n",
              "       'Somewhere between Philadelphia and Hiogo, Japan', ' New Jersey',\n",
              "       \"Côte d'Azur  \", 'Maldonado coast', 'Western Banks',\n",
              "       'Andaman Islands', 'Off the coast of West Africa',\n",
              "       'Misamis Oriental', 'Strait of Messina', 'Hoogly River',\n",
              "       'Cyclades archipelago', 'Mount Lebanon',\n",
              "       'Between Hastings & Fairlight, Sussex', 'Veracruz ',\n",
              "       'Gilbert Islands', 'Lomaiviti Provine',\n",
              "       'Off the coast of South America', '22ºN, 88ºE',\n",
              "       'Matanzas Province (north coast)', 'Alpes Maritime', 'Edinburgh',\n",
              "       'Eastern Catalona', '300 miles east of Mauritius',\n",
              "       'Foveaux Strait', 'Sumatra', 'Conakry Region', 'Corfu', 'Malaga',\n",
              "       'Bonin Islands', 'Fernando Po Island', 'Mangaia Island',\n",
              "       'New York ', 'Corfu ', 'Between Australia & USA', 'Tongatapu',\n",
              "       'Norfolk', 'Island of St. Thomas', 'Cumberland', 'Sanma Province',\n",
              "       \"35º39 : 165º8'\", 'CUBA', 'Western Area ', 'Paraiba', 'Cape Coast',\n",
              "       'Rivers State', 'St. Anne', 'St Helena', \"Côte d'Azur \",\n",
              "       'Skagerrak arm of the North Sea', 'Las Perlas archipelago',\n",
              "       'Bardestrand', 'Southwest coast', 'Quebec', 'Kerala',\n",
              "       'Nice & Marseilles', 'Magarita or Cubagua Islands', 'Yucatan',\n",
              "       'Ionian Sea', 'Piraeus', 'Off Thessaly', 'Paloma',\n",
              "       'Bocas del Toro Province', 'Rocha ', 'Gulf of Tadjoura',\n",
              "       'Cyrenaica', 'Northern Province', 'Los Roques  Islands',\n",
              "       'Dodecanese Islands', 'Malaita Province', 'South Korea',\n",
              "       'Milne Bay  Province', 'Island of Volos', 'Amirante Islands',\n",
              "       'Kadavu Island Group', 'Toamasina Province', 'Riau Province',\n",
              "       'Bikini Atoll', 'Between New Ireland & New Britain',\n",
              "       'Ba Ria-Vung Tau  Province', 'Moala Island'], dtype=object)"
            ]
          },
          "execution_count": 7,
          "metadata": {},
          "output_type": "execute_result"
        }
      ],
      "source": [
        "# Verifing how Florida is written in the dataframe\n",
        "shark_data.State.unique()"
      ]
    },
    {
      "cell_type": "code",
      "execution_count": 8,
      "metadata": {
        "id": "rT3eFDQpIhFY"
      },
      "outputs": [],
      "source": [
        "# Filter rows to only include 'Florida' and 'Franklin County, Florida'\n",
        "florida_data = usa_data[usa_data['State'].isin(['Florida', 'Franklin County, Florida'])]"
      ]
    },
    {
      "cell_type": "code",
      "execution_count": 9,
      "metadata": {
        "colab": {
          "base_uri": "https://localhost:8080/"
        },
        "id": "m3dJmDUU-_6-",
        "outputId": "2b0a889f-d367-48fa-f1c4-1f8c8a77761c"
      },
      "outputs": [
        {
          "data": {
            "text/plain": [
              "Index(['Date', 'Type', 'Activity', 'Sex', 'Age', 'Time', 'Species '], dtype='object')"
            ]
          },
          "execution_count": 9,
          "metadata": {},
          "output_type": "execute_result"
        }
      ],
      "source": [
        "# Remove every column that's useless for our analysis\n",
        "useful_columns = ['Date', 'Type', 'Activity', 'Sex', 'Age', 'Time', 'Species ']\n",
        "filtered_data = florida_data[useful_columns]\n",
        "filtered_data.columns"
      ]
    },
    {
      "cell_type": "code",
      "execution_count": 10,
      "metadata": {
        "colab": {
          "base_uri": "https://localhost:8080/"
        },
        "id": "R3tDYBHMEdVf",
        "outputId": "7d62f83a-76be-465b-d2d4-3a574a08f2da"
      },
      "outputs": [
        {
          "data": {
            "text/plain": [
              "0"
            ]
          },
          "execution_count": 10,
          "metadata": {},
          "output_type": "execute_result"
        }
      ],
      "source": [
        "filtered_data.duplicated().sum()"
      ]
    },
    {
      "cell_type": "code",
      "execution_count": 11,
      "metadata": {
        "colab": {
          "base_uri": "https://localhost:8080/"
        },
        "id": "7b_UqztNCF7W",
        "outputId": "a738ebdd-2604-47d8-f1ae-bf2edae86796"
      },
      "outputs": [
        {
          "data": {
            "text/plain": [
              "array(['Unprovoked', 'Questionable', 'Provoked', 'Watercraft', nan,\n",
              "       'Unconfirmed', 'Under investigation', 'Invalid', 'Sea Disaster'],\n",
              "      dtype=object)"
            ]
          },
          "execution_count": 11,
          "metadata": {},
          "output_type": "execute_result"
        }
      ],
      "source": [
        "# Verifying the values in the 'Type' column\n",
        "filtered_data['Type'].unique()"
      ]
    },
    {
      "cell_type": "code",
      "execution_count": 12,
      "metadata": {
        "colab": {
          "base_uri": "https://localhost:8080/"
        },
        "id": "q7zb3MhZCGXA",
        "outputId": "ce0c289e-bc0e-4ca5-df1d-29db014de6dc"
      },
      "outputs": [
        {
          "name": "stderr",
          "output_type": "stream",
          "text": [
            "<ipython-input-12-de408754cf9c>:5: SettingWithCopyWarning: \n",
            "A value is trying to be set on a copy of a slice from a DataFrame.\n",
            "Try using .loc[row_indexer,col_indexer] = value instead\n",
            "\n",
            "See the caveats in the documentation: https://pandas.pydata.org/pandas-docs/stable/user_guide/indexing.html#returning-a-view-versus-a-copy\n",
            "  filtered_data_cleaned['Type'] = filtered_data_cleaned['Type'].str.strip().replace(' Provoked', 'Provoked')\n",
            "<ipython-input-12-de408754cf9c>:8: SettingWithCopyWarning: \n",
            "A value is trying to be set on a copy of a slice from a DataFrame.\n",
            "Try using .loc[row_indexer,col_indexer] = value instead\n",
            "\n",
            "See the caveats in the documentation: https://pandas.pydata.org/pandas-docs/stable/user_guide/indexing.html#returning-a-view-versus-a-copy\n",
            "  filtered_data_cleaned['Type'] = filtered_data_cleaned['Type'].apply(lambda x: 'Questionable' if x not in ['Provoked', 'Unprovoked'] else x)\n"
          ]
        }
      ],
      "source": [
        "# Cleaning the 'Type' column\n",
        "filtered_data_cleaned = filtered_data.dropna(subset=['Type'])\n",
        "\n",
        "# Replace ' Provoked' with 'Provoked'\n",
        "filtered_data_cleaned['Type'] = filtered_data_cleaned['Type'].str.strip().replace(' Provoked', 'Provoked')\n",
        "\n",
        "# Replace values not 'Provoked' or 'Unprovoked' with 'Questionable'\n",
        "filtered_data_cleaned['Type'] = filtered_data_cleaned['Type'].apply(lambda x: 'Questionable' if x not in ['Provoked', 'Unprovoked'] else x)"
      ]
    },
    {
      "cell_type": "code",
      "execution_count": 13,
      "metadata": {
        "colab": {
          "base_uri": "https://localhost:8080/"
        },
        "id": "hZNZW0g_eCvV",
        "outputId": "a8783095-1592-4fbc-cb95-722234b9a0f2"
      },
      "outputs": [
        {
          "data": {
            "text/plain": [
              "Type\n",
              "Unprovoked      983\n",
              "Provoked        101\n",
              "Questionable     92\n",
              "Name: count, dtype: int64"
            ]
          },
          "execution_count": 13,
          "metadata": {},
          "output_type": "execute_result"
        }
      ],
      "source": [
        "filtered_data_cleaned['Type'].value_counts()"
      ]
    },
    {
      "cell_type": "code",
      "execution_count": 14,
      "metadata": {
        "colab": {
          "base_uri": "https://localhost:8080/"
        },
        "id": "Yh2xvPlFKvua",
        "outputId": "47cf804d-a8df-4767-a741-36384f82c0a5"
      },
      "outputs": [
        {
          "data": {
            "text/plain": [
              "array(['Swimming', 'Surfing', 'Wading', 'Spearfishing', 'Sitting',\n",
              "       'Fishing', 'Windsurfing', 'Kayak fishing', 'Kite-Surfing',\n",
              "       'Spearishing', 'Snorkeling', 'Lobstering', nan, 'Scalloping',\n",
              "       'Jumped into water', 'Standing', 'Kayaking', 'Wing Foil Surfing',\n",
              "       'Boogie boarding', 'Playing', 'Boggie boarding', 'Body surfing',\n",
              "       'Body Surfing', 'Surf fishing', 'Diving', 'Spearfishing / Diving',\n",
              "       'Walking', 'Surfing ', 'Skimboarding', 'Feeding sharks',\n",
              "       'Photo shoot', 'Paddle boarding', 'Surfng', 'Body boarding',\n",
              "       'Teasing a shark', 'SUP', 'Photographing fish',\n",
              "       'Attempting to rescue a shark', 'Photographing the shark',\n",
              "       'Swimming after falling overboard',\n",
              "       'Body surfing or Boogie boarding', 'Fishing for sharks',\n",
              "       'Kite Surfing', 'Casting a net', 'Swimming ',\n",
              "       'Playing in the surf', 'Swimming or boogie boarding',\n",
              "       'Free diving ', 'Wade fishing', 'Jet skiing', 'Scuba diving',\n",
              "       'Fishing ', 'Boogie Boarding', 'Measuring sharks',\n",
              "       'Surf fishing / wading', 'Kite Boarding', 'Crawling',\n",
              "       'Swimming, towing surfboard',\n",
              "       'Walking out of the water after surfing', 'Surf-skiing',\n",
              "       'Fishing for snapper', 'Wading?', 'Jumping',\n",
              "       'Floating near boat & observing bioluminesce',\n",
              "       'Jumped into the water', 'Removing hook from shark',\n",
              "       'Playing on a sandbar', 'Shark fishing', 'Shrimping',\n",
              "       'Playing soccer in the water', 'Diving / Kissing the shark',\n",
              "       'Treading water/ Surfing', 'Standing / Surfing',\n",
              "       'Swimming with boogie board', \"Crouching in 2' of water\",\n",
              "       'In water with diving seabirds', 'Boogie-boarding / swimming',\n",
              "       'Swimming to shore from boat or kayak', 'Sitting on surfboard',\n",
              "       'Wade-fishing', 'Walking, carrying surfboard & stepped on shark',\n",
              "       'Swimming (using a float)', 'Petting captive sharks',\n",
              "       'Wading, when he stepped on the shark', 'Floating on a raft',\n",
              "       'Fishing, removing the shark from his line',\n",
              "       'Playing in the surf with his 2 dogs',\n",
              "       'Surfing, but standing in water alongside board',\n",
              "       'Swimming / Wading', 'Swimming /  boogie boarding',\n",
              "       'Surfing, fell off surfboard & stepped on the shark.',\n",
              "       'Wreck / Technical diving', 'Walking in shallows',\n",
              "       'Standing alongside surfboard', 'Standing / surfing',\n",
              "       'Swimming / Body surfing', 'Surfing / Wading',\n",
              "       'Attempting to illegally enter the USA',\n",
              "       'Spearfishing, holding mesh bag with speared fish', 'Sailing',\n",
              "       'Boogie boarding / wading', 'Fishing for tarpon',\n",
              "       'Wading to shore after surfing', 'Wading with surfboard',\n",
              "       'Swimming with dolphins', 'Wading in school of baitfish',\n",
              "       'Adrift in a life jacket', 'Splashing / wading', 'Body-boarding',\n",
              "       'Swimming / surfing', 'Swimming or paddle boarding',\n",
              "       'Walking / surfing', 'Floating on raft', 'Wading / Surfing',\n",
              "       'Body surfing, stood up on sandbar', 'Surfing / Swimming',\n",
              "       'Adrift on refugee raft', 'Freediving for seashells',\n",
              "       'Floating on his back', 'Fisherman',\n",
              "       'Swimming from makeshift raft  to life vest after fishing boat sank',\n",
              "       'Swimming behind sailboat', 'Surfing, collided with shark',\n",
              "       'SCUBA diving', 'Board sailing',\n",
              "       \"Fishing, stepped on hooked shark's head\",\n",
              "       'Surfing / treading water', 'Standing ', 'Surfing or body surfing',\n",
              "       'Boat capsized?',\n",
              "       \"During a shark fishing tournament, the 18' Boatem was capsized by waves, throwing 3 men into the water \",\n",
              "       'Skindiving', 'Floating on air mattress',\n",
              "       'Surfing & dangling foot in water amid baitfish', 'Water-skiing',\n",
              "       \"16' catamaran capsized previous night, occupants stayed with wreckage until morning, then attempted to swim ashore\",\n",
              "       'Free diving', 'Standing / Wading', 'Commercial spearfishing',\n",
              "       'Floating with life preserver after his boat foundered',\n",
              "       'Floating on inner tube raft', 'Spearfishing / Scuba diving',\n",
              "       'Spearfishing / scuba diving', 'Floating on a small orange raft ',\n",
              "       'Bathing', 'Floating in inner tube', 'Spearfishing using Scuba',\n",
              "       'Playing with a frisbee in the shallows', 'Clamming',\n",
              "       'Treading water', 'Standing on sandbar', 'Hunting crayfish ',\n",
              "       'Diving, retrieving film package from Titan 3C rocket',\n",
              "       'Paddling on surfboard', 'Collecting marine specimens',\n",
              "       'Boat Miss Becky  sank 12 miles from shore',\n",
              "       'Spearfishing / free diving', 'Spearfishing using scuba',\n",
              "       'Tagging sharks', 'Skin diving ', 'Floating',\n",
              "       'Testing anti-shark cage', 'Surf fishing, wading ',\n",
              "       'Commercial fishing vessel, Ev-nn, struck object & sank. Ken Crosby and  Jame & Ann Dumas adrift on makeshift raft.',\n",
              "       'Spearfishing, pulled shark’s tail',\n",
              "       'S.S. Marine Sulphur Queen, laden with molten sulphur was bound from Beaumont, Texas for Norfolk, VA, when she disappeared with 39 on board',\n",
              "       'U.S. Airforce crewman reported missing after bailing out of jet',\n",
              "       'Rolled off raft', 'Scuba diving & spearfishing ',\n",
              "       'Spearfishing on Scuba', 'Walking in chest-deep water',\n",
              "       'Splashing ', 'Fell overboard, prop slashed arm',\n",
              "       'Holding shark on leader & dangling it above the water',\n",
              "       \"Adrift, hanging onto cushion, after his 17' skiff ran out of gas & capsized 3 miles from shore\",\n",
              "       'On boat, preparing to dive',\n",
              "       'Swimming, ducking for shells in water 0.9 m deep',\n",
              "       'Swimming, towing the shark',\n",
              "       'Attempting to net shark in shark channel',\n",
              "       '3 men & 2 boys picked up wearing life jackets and with inner tube',\n",
              "       'Skindiving for specimens', 'Helmet diving in Miami Seaquarium',\n",
              "       'Fishing for pompano', 'Fishing for trout ',\n",
              "       'Goggle-diving for seaweeds, but standing in water',\n",
              "       'Survived crash of two-engine  C-46 transport plane carrying 62 migrant workers from Puerto Rico to USA ',\n",
              "       'Underwater photography', 'Fishing for mackerel',\n",
              "       'Treading water after survivng crash of the US Navy airship K-74 that was hit by the German submarine U-134',\n",
              "       'Crabbing', 'Sponge diving', 'Hardhat diving ',\n",
              "       'Jumped overboard and swimming', 'Removing shark from a net',\n",
              "       'Knocked into the water',\n",
              "       'Fishing, attempted to take a netted shark',\n",
              "       'Fell overboard & swimming',\n",
              "       'Fell overboard from fishing schooner Halycon',\n",
              "       'Fishing,  tarpon being chased by shark  leapt across his skiff, breaking it in half & Larkin became tangled in the net',\n",
              "       'Rowing', 'Hunting crayfish',\n",
              "       'Swimming ashore from a \"filibuster\"',\n",
              "       'Swimming / floating on his back',\n",
              "       'Crossing inlet in a boat, seen fighting sharks with his oar, sharks smashed boat',\n",
              "       'Fell overboard',\n",
              "       'During \"an exhibition\" he was tied in sack & thrown overboard ',\n",
              "       'Knocked overboard', 'Attempting to rescue woman seized by shark',\n",
              "       'Seine netting', 'Shark tagging', 'Kitesurfing',\n",
              "       \"Skin diving. Grabbed shark's tail; shark turned & grabbed diver's ankle & began towing him to deep water\",\n",
              "       'Canoeing'], dtype=object)"
            ]
          },
          "execution_count": 14,
          "metadata": {},
          "output_type": "execute_result"
        }
      ],
      "source": [
        "# Verifing the unique values in the 'Activity' column\n",
        "filtered_data['Activity'].unique()"
      ]
    },
    {
      "cell_type": "code",
      "execution_count": 15,
      "metadata": {
        "colab": {
          "base_uri": "https://localhost:8080/"
        },
        "id": "r4sITEj4HxmT",
        "outputId": "e8f6c3eb-35d8-41d2-df31-105dcfe56386"
      },
      "outputs": [
        {
          "data": {
            "text/plain": [
              "45      False\n",
              "151     False\n",
              "284     False\n",
              "304     False\n",
              "379     False\n",
              "        ...  \n",
              "4192    False\n",
              "4245    False\n",
              "4362    False\n",
              "4783    False\n",
              "4875    False\n",
              "Name: Activity, Length: 89, dtype: bool"
            ]
          },
          "execution_count": 15,
          "metadata": {},
          "output_type": "execute_result"
        }
      ],
      "source": [
        "import re\n",
        "\n",
        "# Define a regular expression pattern to match any string containing 'fishing' or 'Fishing'\n",
        "pattern_1 = re.compile(r'.*fishing.*', flags=re.IGNORECASE)\n",
        "\n",
        "# Define a regular expression pattern to match any string containing 'swimming' or 'Swimming'\n",
        "pattern_2 = re.compile(r'.*swimming.*', flags=re.IGNORECASE)\n",
        "\n",
        "# Define a regular expression pattern to match any string containing 'surfing' or 'Surfing'\n",
        "pattern_3 = re.compile(r'.*surfing.*', flags=re.IGNORECASE)\n",
        "\n",
        "# Define a regular expression pattern to match any string containing 'wading' or 'Wading'\n",
        "pattern_4 = re.compile(r'.*wading.*', flags=re.IGNORECASE)\n",
        "\n",
        "\n",
        "def activity_def(df,activity,pattern, action ):\n",
        "  return df.loc[df[activity].str.contains(pattern, na=False), activity] == action\n",
        "\n",
        "activity_def(filtered_data_cleaned,'Activity',pattern_1,'Fishing')\n",
        "activity_def(filtered_data_cleaned,'Activity',pattern_2,'Swimming')\n",
        "activity_def(filtered_data_cleaned,'Activity',pattern_3,'Surfing')\n",
        "activity_def(filtered_data_cleaned,'Activity',pattern_4,'Walking')\n"
      ]
    },
    {
      "cell_type": "code",
      "execution_count": 16,
      "metadata": {
        "colab": {
          "base_uri": "https://localhost:8080/"
        },
        "id": "ERfpQfbZbmH4",
        "outputId": "eba6228d-0f40-482c-98be-85ce36aeff44"
      },
      "outputs": [
        {
          "name": "stderr",
          "output_type": "stream",
          "text": [
            "<ipython-input-16-70f61c75286b>:2: SettingWithCopyWarning: \n",
            "A value is trying to be set on a copy of a slice from a DataFrame\n",
            "\n",
            "See the caveats in the documentation: https://pandas.pydata.org/pandas-docs/stable/user_guide/indexing.html#returning-a-view-versus-a-copy\n",
            "  filtered_data_cleaned['Activity'].fillna('Unknown', inplace=True)\n"
          ]
        }
      ],
      "source": [
        "# Replace null values in the 'Activity' column with 'Unknown'\n",
        "filtered_data_cleaned['Activity'].fillna('Unknown', inplace=True)"
      ]
    },
    {
      "cell_type": "code",
      "execution_count": 17,
      "metadata": {
        "colab": {
          "base_uri": "https://localhost:8080/"
        },
        "id": "bFISPxb-gPu8",
        "outputId": "218590b2-d2b2-49af-ebd2-42d352a03b62"
      },
      "outputs": [
        {
          "data": {
            "text/plain": [
              "array(['M', 'F', nan, ' M', 'M '], dtype=object)"
            ]
          },
          "execution_count": 17,
          "metadata": {},
          "output_type": "execute_result"
        }
      ],
      "source": [
        "filtered_data_cleaned['Sex'].unique()"
      ]
    },
    {
      "cell_type": "code",
      "execution_count": 18,
      "metadata": {
        "colab": {
          "base_uri": "https://localhost:8080/"
        },
        "id": "dGgxp81wvjaH",
        "outputId": "4a52587b-4052-4cc2-b4a6-d709a1e862be"
      },
      "outputs": [
        {
          "name": "stderr",
          "output_type": "stream",
          "text": [
            "<ipython-input-18-716a626910f5>:2: SettingWithCopyWarning: \n",
            "A value is trying to be set on a copy of a slice from a DataFrame\n",
            "\n",
            "See the caveats in the documentation: https://pandas.pydata.org/pandas-docs/stable/user_guide/indexing.html#returning-a-view-versus-a-copy\n",
            "  filtered_data_cleaned['Sex'].fillna('Unknown', inplace=True)\n",
            "<ipython-input-18-716a626910f5>:5: SettingWithCopyWarning: \n",
            "A value is trying to be set on a copy of a slice from a DataFrame.\n",
            "Try using .loc[row_indexer,col_indexer] = value instead\n",
            "\n",
            "See the caveats in the documentation: https://pandas.pydata.org/pandas-docs/stable/user_guide/indexing.html#returning-a-view-versus-a-copy\n",
            "  filtered_data_cleaned['Sex'] = filtered_data_cleaned['Sex'].str.strip()\n"
          ]
        }
      ],
      "source": [
        "# Replace 'nan' with 'Unknown'\n",
        "filtered_data_cleaned['Sex'].fillna('Unknown', inplace=True)\n",
        "\n",
        "# Remove leading and trailing whitespace from the values\n",
        "filtered_data_cleaned['Sex'] = filtered_data_cleaned['Sex'].str.strip()"
      ]
    },
    {
      "cell_type": "code",
      "execution_count": 19,
      "metadata": {
        "colab": {
          "base_uri": "https://localhost:8080/"
        },
        "id": "hqW8nvEUgXUw",
        "outputId": "cede5e0b-f770-4f72-9f9a-fd12a050254a"
      },
      "outputs": [
        {
          "data": {
            "text/plain": [
              "Sex\n",
              "M          955\n",
              "F          184\n",
              "Unknown     37\n",
              "Name: count, dtype: int64"
            ]
          },
          "execution_count": 19,
          "metadata": {},
          "output_type": "execute_result"
        }
      ],
      "source": [
        "filtered_data_cleaned['Sex'].value_counts()"
      ]
    },
    {
      "cell_type": "code",
      "execution_count": 20,
      "metadata": {
        "colab": {
          "base_uri": "https://localhost:8080/"
        },
        "id": "7yKZ42ETgfT2",
        "outputId": "4585027f-18e8-4a84-82eb-5c4a51b8165d"
      },
      "outputs": [
        {
          "data": {
            "text/plain": [
              "array(['05 Nov-2023', '12 Sep-2023', '11 Sep-2023', ...,\n",
              "       'No date, Before 1902', 'Before 1958', 'Before 1921'], dtype=object)"
            ]
          },
          "execution_count": 20,
          "metadata": {},
          "output_type": "execute_result"
        }
      ],
      "source": [
        "filtered_data_cleaned['Date'].unique()"
      ]
    },
    {
      "cell_type": "code",
      "execution_count": 21,
      "metadata": {
        "colab": {
          "base_uri": "https://localhost:8080/"
        },
        "id": "RUMlYHlmyGO1",
        "outputId": "244c0223-51ca-4f16-d4cb-6c8fc5b3169b"
      },
      "outputs": [
        {
          "name": "stderr",
          "output_type": "stream",
          "text": [
            "<ipython-input-21-f646a3c48286>:4: SettingWithCopyWarning: \n",
            "A value is trying to be set on a copy of a slice from a DataFrame\n",
            "\n",
            "See the caveats in the documentation: https://pandas.pydata.org/pandas-docs/stable/user_guide/indexing.html#returning-a-view-versus-a-copy\n",
            "  filtered_data_cleaned['Date'].fillna('Unknown', inplace=True)\n",
            "<ipython-input-21-f646a3c48286>:10: SettingWithCopyWarning: \n",
            "A value is trying to be set on a copy of a slice from a DataFrame.\n",
            "Try using .loc[row_indexer,col_indexer] = value instead\n",
            "\n",
            "See the caveats in the documentation: https://pandas.pydata.org/pandas-docs/stable/user_guide/indexing.html#returning-a-view-versus-a-copy\n",
            "  filtered_data_cleaned['Month'] = filtered_data_cleaned['Date'].str.extract(pattern, expand=False)\n"
          ]
        }
      ],
      "source": [
        "import re\n",
        "\n",
        "# Replace null values in the 'Date' column with 'Unknown'\n",
        "filtered_data_cleaned['Date'].fillna('Unknown', inplace=True)\n",
        "\n",
        "# Define a regular expression pattern with a capture group to match the first three letters of the month\n",
        "pattern = re.compile(r'(?i)(Jan|Feb|Mar|Apr|May|Jun|Jul|Aug|Sep|Oct|Nov|Dec)')\n",
        "\n",
        "# Extract the first three letters of the month from each date string\n",
        "filtered_data_cleaned['Month'] = filtered_data_cleaned['Date'].str.extract(pattern, expand=False)\n",
        "\n",
        "# Count the occurrences of each month\n",
        "month_counts = filtered_data_cleaned['Month'].value_counts()"
      ]
    },
    {
      "cell_type": "code",
      "execution_count": 22,
      "metadata": {
        "colab": {
          "base_uri": "https://localhost:8080/"
        },
        "id": "HbQaxoH1BKCz",
        "outputId": "4f316621-6499-4473-c940-4cb70f28dbac"
      },
      "outputs": [
        {
          "name": "stderr",
          "output_type": "stream",
          "text": [
            "<ipython-input-22-16408c2a42c7>:2: SettingWithCopyWarning: \n",
            "A value is trying to be set on a copy of a slice from a DataFrame\n",
            "\n",
            "See the caveats in the documentation: https://pandas.pydata.org/pandas-docs/stable/user_guide/indexing.html#returning-a-view-versus-a-copy\n",
            "  filtered_data_cleaned.drop(columns=['Date'], inplace=True)\n"
          ]
        }
      ],
      "source": [
        "# Drop the 'Date' column\n",
        "filtered_data_cleaned.drop(columns=['Date'], inplace=True)"
      ]
    },
    {
      "cell_type": "code",
      "execution_count": 23,
      "metadata": {
        "colab": {
          "base_uri": "https://localhost:8080/"
        },
        "id": "v6vsVmGLO_dZ",
        "outputId": "097b39ff-a764-4d1c-b794-fb97d090159c"
      },
      "outputs": [
        {
          "data": {
            "text/plain": [
              "array(['66', '38', nan, '30s', '37', '22', '26', '49', '21', '!2', '35',\n",
              "       '20', '13', '50s', '67', '60', '34', '30', '10', '29', '15', 26,\n",
              "       10, 13, 33, 40, 28, 17, 35, 56, 'Teen', 20, 21, 18, 42, 25, '!6',\n",
              "       41, 15, 47, 11, 9, 36, 8, 12, 14, 71, 64, 54, 16, 7, 19, 31, 30,\n",
              "       23, 50, 55, 22, 38, 32, '60s', 51, 37, 49, 46, 48, 29, 39, 52, 60,\n",
              "       3, 58, 43, 57, 34, '11', '17', '14', '19', '18', '63', '48', '70',\n",
              "       '12', '44', '40', '52', '45', '8', '39', '23', '42', '25', 'teen',\n",
              "       '9', '6', '50', '7', '43', '3', '58', '16', '24', '32', '56', '47',\n",
              "       '28', '61', '27', '86', '55', '31', '36', '54', '51', '68', '33',\n",
              "       '12 or 13', '20s', '62', 61, '46', '8 or 10', '\\xa0 ', 27, '41',\n",
              "       '6½', 44, 69, 45, 'mid-30s', 73, '23 & 20', 5, 62, '5', 63,\n",
              "       '7      &    31', ' 28', '71', 6, '77', 'Elderly', 'mid-20s', 75,\n",
              "       24, '21 or 26', 'adult', '9 & 12', 59], dtype=object)"
            ]
          },
          "execution_count": 23,
          "metadata": {},
          "output_type": "execute_result"
        }
      ],
      "source": [
        "# Verifying the values in the 'Age' column\n",
        "filtered_data_cleaned['Age'].unique()"
      ]
    },
    {
      "cell_type": "code",
      "execution_count": 24,
      "metadata": {
        "colab": {
          "base_uri": "https://localhost:8080/"
        },
        "id": "kFtNCpu9QBGy",
        "outputId": "c1fa647a-ac50-4be1-f859-0afc1acfa208"
      },
      "outputs": [
        {
          "name": "stderr",
          "output_type": "stream",
          "text": [
            "<ipython-input-24-e96acd8db580>:2: SettingWithCopyWarning: \n",
            "A value is trying to be set on a copy of a slice from a DataFrame.\n",
            "Try using .loc[row_indexer,col_indexer] = value instead\n",
            "\n",
            "See the caveats in the documentation: https://pandas.pydata.org/pandas-docs/stable/user_guide/indexing.html#returning-a-view-versus-a-copy\n",
            "  filtered_data_cleaned['Age'] = filtered_data_cleaned['Age'].astype(str)\n",
            "<ipython-input-24-e96acd8db580>:5: SettingWithCopyWarning: \n",
            "A value is trying to be set on a copy of a slice from a DataFrame.\n",
            "Try using .loc[row_indexer,col_indexer] = value instead\n",
            "\n",
            "See the caveats in the documentation: https://pandas.pydata.org/pandas-docs/stable/user_guide/indexing.html#returning-a-view-versus-a-copy\n",
            "  filtered_data_cleaned['Age'] = filtered_data_cleaned['Age'].str.strip()\n",
            "<ipython-input-24-e96acd8db580>:11: SettingWithCopyWarning: \n",
            "A value is trying to be set on a copy of a slice from a DataFrame.\n",
            "Try using .loc[row_indexer,col_indexer] = value instead\n",
            "\n",
            "See the caveats in the documentation: https://pandas.pydata.org/pandas-docs/stable/user_guide/indexing.html#returning-a-view-versus-a-copy\n",
            "  filtered_data_cleaned['Age'] = filtered_data_cleaned['Age'].apply(lambda x: pattern.match(x).group(1) if pattern.match(x) else np.nan)\n",
            "<ipython-input-24-e96acd8db580>:14: SettingWithCopyWarning: \n",
            "A value is trying to be set on a copy of a slice from a DataFrame\n",
            "\n",
            "See the caveats in the documentation: https://pandas.pydata.org/pandas-docs/stable/user_guide/indexing.html#returning-a-view-versus-a-copy\n",
            "  filtered_data_cleaned['Age'].fillna(method='ffill', inplace=True)\n",
            "<ipython-input-24-e96acd8db580>:17: SettingWithCopyWarning: \n",
            "A value is trying to be set on a copy of a slice from a DataFrame.\n",
            "Try using .loc[row_indexer,col_indexer] = value instead\n",
            "\n",
            "See the caveats in the documentation: https://pandas.pydata.org/pandas-docs/stable/user_guide/indexing.html#returning-a-view-versus-a-copy\n",
            "  filtered_data_cleaned['Age'] = filtered_data_cleaned['Age'].astype(float).astype('Int64')\n"
          ]
        }
      ],
      "source": [
        "# Convert all values to strings\n",
        "filtered_data_cleaned['Age'] = filtered_data_cleaned['Age'].astype(str)\n",
        "\n",
        "# Remove leading spaces from each value\n",
        "filtered_data_cleaned['Age'] = filtered_data_cleaned['Age'].str.strip()\n",
        "\n",
        "# Define a regular expression pattern to extract only the first two characters\n",
        "pattern = re.compile(r'(\\d{1,2})')\n",
        "\n",
        "# Extract the first two characters from each value and replace non-numeric values with NaN\n",
        "filtered_data_cleaned['Age'] = filtered_data_cleaned['Age'].apply(lambda x: pattern.match(x).group(1) if pattern.match(x) else np.nan)\n",
        "\n",
        "# Fill all the null values using the 'ffill' method\n",
        "filtered_data_cleaned['Age'].fillna(method='ffill', inplace=True)\n",
        "\n",
        "# Convert remaining values to integers\n",
        "filtered_data_cleaned['Age'] = filtered_data_cleaned['Age'].astype(float).astype('Int64')"
      ]
    },
    {
      "cell_type": "code",
      "execution_count": 25,
      "metadata": {
        "colab": {
          "base_uri": "https://localhost:8080/"
        },
        "id": "zoUFjRYIhbkk",
        "outputId": "32378651-95d0-4d7f-837d-e7b2f98ba994"
      },
      "outputs": [
        {
          "data": {
            "text/plain": [
              "Age\n",
              "17    72\n",
              "19    63\n",
              "15    62\n",
              "18    61\n",
              "20    54\n",
              "      ..\n",
              "66     1\n",
              "68     1\n",
              "86     1\n",
              "57     1\n",
              "59     1\n",
              "Name: count, Length: 70, dtype: Int64"
            ]
          },
          "execution_count": 25,
          "metadata": {},
          "output_type": "execute_result"
        }
      ],
      "source": [
        "filtered_data_cleaned['Age'].value_counts()"
      ]
    },
    {
      "cell_type": "code",
      "execution_count": 26,
      "metadata": {
        "colab": {
          "base_uri": "https://localhost:8080/",
          "height": 466
        },
        "id": "I11O4amviRK9",
        "outputId": "57379d8d-5cd5-491c-920d-5d8045e8f7f1"
      },
      "outputs": [
        {
          "data": {
            "text/plain": [
              "<Axes: xlabel='Age', ylabel='Count'>"
            ]
          },
          "execution_count": 26,
          "metadata": {},
          "output_type": "execute_result"
        },
        {
          "data": {
            "image/png": "[encoded data removed]",
            "text/plain": [
              "<Figure size 640x480 with 1 Axes>"
            ]
          },
          "metadata": {},
          "output_type": "display_data"
        }
      ],
      "source": [
        "import seaborn as sns\n",
        "sns.histplot(filtered_data_cleaned['Age'], bins=100)"
      ]
    },
    {
      "cell_type": "code",
      "execution_count": 27,
      "metadata": {
        "colab": {
          "base_uri": "https://localhost:8080/"
        },
        "id": "RqWDekHFiWMr",
        "outputId": "e4a5d8e0-f009-4e70-fc94-104f8b1e0809"
      },
      "outputs": [
        {
          "data": {
            "text/plain": [
              "array(['10h30', '07h50', nan, '09h30', '15h30', '20h00', '14h00', '15h00',\n",
              "       '10h10', 'Afternoon', '11h30', '07h00', '17h30', '14h50', '16h00',\n",
              "       '10jh45', '13h12', '11h43', '10h00', 'Morning', '14h45', '12h00',\n",
              "       '13h20', '06h40', '07h51', '11h00', '16h30', '16h39', '15h57',\n",
              "       '14h30', '09h00', '10j30', '13h00', '11h45', '10h45', '08h15',\n",
              "       '17h00', '08h00', '12h20', '10h50', '12h45', '11h55', '13h30',\n",
              "       '07h30', '18h45', '17h45', 'Early afternoon', '13h15', '09h29',\n",
              "       '15h40', '15h35', 'Late afternoon', '10h44', '13h19', '18h30',\n",
              "       '12h30', '13h45', '10h43', '15h15', 1300, '14h30 / 15h30', '14h55',\n",
              "       '08h30', '15h45', '18h00', '17h46', 'Morning ', '13h50', '16h20',\n",
              "       '16h45', '19h00', '19h45', '19h30', 'Night', '16h40', '16h18',\n",
              "       '11h10', '09h57', '11h15', '14h20', 'Just before noon', '07h56',\n",
              "       '1600', '19h28', '15h50', '16h05', '06h30', '19h15', '08h45',\n",
              "       '15h44', '10h15', '15j45', '20h30', '09h35', '10h27', '10h16',\n",
              "       '12h05', '13h55', '09h50', '18h50', '15h53', '11h115', '08h10',\n",
              "       '18h20', 'Early morning', '13h42', '09h45', '20h15', '12h39',\n",
              "       '17h35', '13h05', 'Evening', '03h30', '17h55', '12h15', '--',\n",
              "       '12h02', '07h45', '16h14', '17h11', '14h37', '10h07', '13h53',\n",
              "       '13h23', '11h40', '08h50', 'Dusk', '12h10', '13h40', '13h25',\n",
              "       'Sunset', '14h35', '15h55', '14h25', '10h40', '16h15', '17h15',\n",
              "       '06h47', '10h55', '18h40', '13h14', '13h06', '11h20', '15h49',\n",
              "       '12h34', '11h53', '8:04 pm', '12h46', '12h48', '17h42', '12h35',\n",
              "       '11h57', 'Noon', '11h25', '18h25', '09h15', 'P.M.', 'Mid morning',\n",
              "       '15h20', '14h16', '11h48', '10h25', '13h37', '18h05', '11h06',\n",
              "       '14h10', '18h30?', '10h35', '18h12', '14h15', '12h33', '12h54',\n",
              "       '16h35', '16h55', 'X', '08h57', '08h35', '10h22', 'Prior to 10h37',\n",
              "       'Daybreak', '18h10', 'Mid-morning', '08h55', '07h15', '11h50',\n",
              "       '16h10', '17h10', 'A.M.', '06h00'], dtype=object)"
            ]
          },
          "execution_count": 27,
          "metadata": {},
          "output_type": "execute_result"
        }
      ],
      "source": [
        "filtered_data_cleaned['Time'].unique()"
      ]
    },
    {
      "cell_type": "code",
      "execution_count": 28,
      "metadata": {
        "colab": {
          "base_uri": "https://localhost:8080/"
        },
        "id": "cW8miflDipuJ",
        "outputId": "22efb6fc-74b4-433d-a7fb-459e867e3680"
      },
      "outputs": [
        {
          "data": {
            "text/plain": [
              "dtype('O')"
            ]
          },
          "execution_count": 28,
          "metadata": {},
          "output_type": "execute_result"
        }
      ],
      "source": [
        "filtered_data_cleaned['Time'].dtype"
      ]
    },
    {
      "cell_type": "code",
      "execution_count": 29,
      "metadata": {
        "colab": {
          "base_uri": "https://localhost:8080/"
        },
        "id": "U-gq6RUVgf89",
        "outputId": "f193fa2b-65dc-4ee8-a38e-6c4f2be439e4"
      },
      "outputs": [
        {
          "name": "stderr",
          "output_type": "stream",
          "text": [
            "<ipython-input-29-6af3ebcdaa2e>:33: SettingWithCopyWarning: \n",
            "A value is trying to be set on a copy of a slice from a DataFrame.\n",
            "Try using .loc[row_indexer,col_indexer] = value instead\n",
            "\n",
            "See the caveats in the documentation: https://pandas.pydata.org/pandas-docs/stable/user_guide/indexing.html#returning-a-view-versus-a-copy\n",
            "  filtered_data_cleaned['Time'] = filtered_data_cleaned['Time'].apply(categorize_time)\n"
          ]
        }
      ],
      "source": [
        "def categorize_time(time):\n",
        "    if pd.isna(time):  # Check if the value is NaN\n",
        "        return np.nan\n",
        "\n",
        "    # Convert to string\n",
        "    time_str = str(time)\n",
        "\n",
        "    # Extract hour from the time string\n",
        "    if 'h' in time_str:\n",
        "        hour = time_str.split('h')[0]  # Extract hour if 'h' separator is present\n",
        "        if hour.isdigit():\n",
        "            hour = int(hour)\n",
        "        else:\n",
        "            return np.nan  # Return NaN if hour is not a valid integer\n",
        "    elif ':' in time_str:\n",
        "        hour = time_str.split(':')[0]  # Extract hour if ':' separator is present\n",
        "        if hour.isdigit():\n",
        "            hour = int(hour)\n",
        "        else:\n",
        "            return np.nan  # Return NaN if hour is not a valid integer\n",
        "    else:\n",
        "        return np.nan  # Return NaN if neither separator is found\n",
        "\n",
        "    # Categorize the time into MORNING, AFTERNOON, or EVENING\n",
        "    if hour < 12:\n",
        "        return 'MORNING'\n",
        "    elif hour < 18:\n",
        "        return 'AFTERNOON'\n",
        "    else:\n",
        "        return 'EVENING'\n",
        "\n",
        "# Replace the values in the 'Time' column with the time categories\n",
        "filtered_data_cleaned['Time'] = filtered_data_cleaned['Time'].apply(categorize_time)"
      ]
    },
    {
      "cell_type": "code",
      "execution_count": 30,
      "metadata": {
        "colab": {
          "base_uri": "https://localhost:8080/"
        },
        "id": "vWgs9rrcgpE4",
        "outputId": "8f6ed879-0378-4d8f-dec4-ed628a1e55ee"
      },
      "outputs": [
        {
          "name": "stderr",
          "output_type": "stream",
          "text": [
            "<ipython-input-30-c85dd6a4a115>:10: SettingWithCopyWarning: \n",
            "A value is trying to be set on a copy of a slice from a DataFrame\n",
            "\n",
            "See the caveats in the documentation: https://pandas.pydata.org/pandas-docs/stable/user_guide/indexing.html#returning-a-view-versus-a-copy\n",
            "  filtered_data_cleaned['Time'].fillna('AFTERNOON', limit=afternoon_nulls, inplace=True)\n",
            "<ipython-input-30-c85dd6a4a115>:11: SettingWithCopyWarning: \n",
            "A value is trying to be set on a copy of a slice from a DataFrame\n",
            "\n",
            "See the caveats in the documentation: https://pandas.pydata.org/pandas-docs/stable/user_guide/indexing.html#returning-a-view-versus-a-copy\n",
            "  filtered_data_cleaned['Time'].fillna('MORNING', limit=morning_nulls, inplace=True)\n",
            "<ipython-input-30-c85dd6a4a115>:12: SettingWithCopyWarning: \n",
            "A value is trying to be set on a copy of a slice from a DataFrame\n",
            "\n",
            "See the caveats in the documentation: https://pandas.pydata.org/pandas-docs/stable/user_guide/indexing.html#returning-a-view-versus-a-copy\n",
            "  filtered_data_cleaned['Time'].fillna('EVENING', limit=evening_nulls, inplace=True)\n"
          ]
        }
      ],
      "source": [
        "# Calculate the total number of NaN values\n",
        "total_nulls = filtered_data_cleaned['Time'].isnull().sum()\n",
        "\n",
        "# Calculate the number of NaN values to fill for each category using the given ratios\n",
        "afternoon_nulls = round((53/99) * total_nulls)\n",
        "morning_nulls = round((32/99) * total_nulls)\n",
        "evening_nulls = round((10/99) * total_nulls)\n",
        "\n",
        "# Replace NaN values in 'Time' column with the ratios\n",
        "filtered_data_cleaned['Time'].fillna('AFTERNOON', limit=afternoon_nulls, inplace=True)\n",
        "filtered_data_cleaned['Time'].fillna('MORNING', limit=morning_nulls, inplace=True)\n",
        "filtered_data_cleaned['Time'].fillna('EVENING', limit=evening_nulls, inplace=True)\n"
      ]
    },
    {
      "cell_type": "code",
      "execution_count": 31,
      "metadata": {
        "colab": {
          "base_uri": "https://localhost:8080/"
        },
        "id": "t241pxDMnice",
        "outputId": "275c8262-3815-484a-c95d-f2c82606a24b"
      },
      "outputs": [
        {
          "data": {
            "text/plain": [
              "Time\n",
              "AFTERNOON    691\n",
              "MORNING      356\n",
              "EVENING      110\n",
              "Name: count, dtype: int64"
            ]
          },
          "execution_count": 31,
          "metadata": {},
          "output_type": "execute_result"
        }
      ],
      "source": [
        "filtered_data_cleaned['Time'].value_counts()"
      ]
    },
    {
      "cell_type": "code",
      "execution_count": 32,
      "metadata": {
        "colab": {
          "base_uri": "https://localhost:8080/",
          "height": 466
        },
        "id": "C1eI1nXCfMCA",
        "outputId": "85506e3a-6fbb-4cd7-d969-eb531927c225"
      },
      "outputs": [
        {
          "data": {
            "text/plain": [
              "<Axes: xlabel='Time', ylabel='Count'>"
            ]
          },
          "execution_count": 32,
          "metadata": {},
          "output_type": "execute_result"
        },
        {
          "data": {
            "image/png": "[encoded data removed]",
            "text/plain": [
              "<Figure size 640x480 with 1 Axes>"
            ]
          },
          "metadata": {},
          "output_type": "display_data"
        }
      ],
      "source": [
        "import seaborn as sns\n",
        "\n",
        "sns.histplot(filtered_data_cleaned['Time'], bins=100)"
      ]
    }
  ],
  "metadata": {
    "colab": {
      "provenance": []
    },
    "kernelspec": {
      "display_name": "Python 3",
      "name": "python3"
    },
    "language_info": {
      "name": "python"
    }
  },
  "nbformat": 4,
  "nbformat_minor": 0
}
